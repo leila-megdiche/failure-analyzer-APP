{
 "cells": [
  {
   "cell_type": "code",
   "execution_count": 2,
   "id": "db01f3b2",
   "metadata": {},
   "outputs": [],
   "source": [
    "from simpful import *"
   ]
  },
  {
   "cell_type": "code",
   "execution_count": 3,
   "id": "661f09b5",
   "metadata": {
    "scrolled": false
   },
   "outputs": [
    {
     "name": "stdout",
     "output_type": "stream",
     "text": [
      "  ____  __  _  _  ____  ____  _  _  __   \n",
      " / ___)(  )( \\/ )(  _ \\(  __)/ )( \\(  ) v2.9.0 \n",
      " \\___ \\ )( / \\/ \\ ) __/ ) _) ) \\/ (/ (_/\\ \n",
      " (____/(__)\\_)(_/(__)  (__)  \\____/\\____/\n",
      "\n",
      " Created by Marco S. Nobile (m.s.nobile@tue.nl)\n",
      " and Simone Spolaor (simone.spolaor@unimib.it)\n",
      "\n"
     ]
    }
   ],
   "source": [
    " # Create a fuzzy system object\n",
    "FS = FuzzySystem()"
   ]
  },
  {
   "cell_type": "code",
   "execution_count": 4,
   "id": "c51c865e",
   "metadata": {},
   "outputs": [],
   "source": [
    " # Define fuzzy sets and linguistic variables \"nioses\"\n",
    "S_1 = FuzzySet(function=Triangular_MF(a=0, b=2, c=4), term=\"Humming\")\n",
    "S_2 = FuzzySet(function=Triangular_MF(a=3, b=5, c=7), term=\"Rattling\")\n",
    "S_3 = FuzzySet(function=Triangular_MF(a=6, b=8, c=10), term=\"Grinding\")\n",
    "FS.add_linguistic_variable(\"noises\", LinguisticVariable([S_1, S_2, S_3], concept=\"types of noises\", universe_of_discourse=[0,10]))\n"
   ]
  },
  {
   "cell_type": "code",
   "execution_count": 5,
   "id": "2f137f20",
   "metadata": {},
   "outputs": [],
   "source": [
    " # Define fuzzy sets and linguistic variables \"vibration\"\n",
    "F_1 = FuzzySet(function=Triangular_MF(a=0, b=2, c=4), term=\"Transient\")\n",
    "F_2 = FuzzySet(function=Triangular_MF(a=3, b=5, c=7), term=\"Continuous\")\n",
    "F_3 = FuzzySet(function=Triangular_MF(a=6, b=8, c=10), term=\"Forced\")\n",
    "FS.add_linguistic_variable(\"Vibration\", LinguisticVariable([F_1, F_2,F_3], concept=\"vibration degree\", universe_of_discourse=[0,10]))\n"
   ]
  },
  {
   "cell_type": "code",
   "execution_count": 6,
   "id": "c05dc17b",
   "metadata": {},
   "outputs": [],
   "source": [
    " # Define fuzzy sets and linguistic variable \"leaks\"\n",
    "L_1 = FuzzySet(function=Triangular_MF(a=0, b=2, c=4), term=\"Air\")\n",
    "L_2 = FuzzySet(function=Triangular_MF(a=3, b=5, c=7), term=\"Oil\")\n",
    "L_3 = FuzzySet(function=Triangular_MF(a=6, b=8, c=10), term=\"Gaz\")\n",
    "FS.add_linguistic_variable(\"Leaks\", LinguisticVariable([L_1, L_2, L_3], concept=\"type of leaks\", universe_of_discourse=[0,10]))\n"
   ]
  },
  {
   "cell_type": "code",
   "execution_count": 7,
   "id": "0d049ae0",
   "metadata": {},
   "outputs": [],
   "source": [
    " # Define fuzzy sets and linguistic variable \"smells\"\n",
    "M_1 = FuzzySet(function=Triangular_MF(a=0, b=2, c=4), term=\"Acrid\")\n",
    "M_2 = FuzzySet(function=Triangular_MF(a=3, b=5, c=7), term=\"Metallic\")\n",
    "M_3 = FuzzySet(function=Triangular_MF(a=6, b=8, c=10), term=\"Burning\")\n",
    "FS.add_linguistic_variable(\"Smells\", LinguisticVariable([M_1, M_2, M_3], concept=\"type of smells\", universe_of_discourse=[0,10]))\n"
   ]
  },
  {
   "cell_type": "code",
   "execution_count": 8,
   "id": "afe4e309",
   "metadata": {},
   "outputs": [],
   "source": [
    "# Define output fuzzy sets and linguistic variable \"failure\"\n",
    "T_1 = FuzzySet(function=Triangular_MF(a=0, b=2, c=4), term=\"Minor\")\n",
    "T_2 = FuzzySet(function=Triangular_MF(a=3, b=5, c=7), term=\"Major\")\n",
    "T_3 = FuzzySet(function=Triangular_MF(a=6, b=8, c=10), term=\"Catastrophic\")\n",
    "FS.add_linguistic_variable(\"failure\",LinguisticVariable([T_1, T_2, T_3],concept=\"degree of failure\",universe_of_discourse=[0,25]))\n"
   ]
  },
  {
   "cell_type": "code",
   "execution_count": 9,
   "id": "51047268",
   "metadata": {},
   "outputs": [],
   "source": [
    "# Define fuzzy rules\n",
    "R1 = \"IF (Leaks IS Gaz) AND (Smells IS Burning) AND ((Vibration IS Transient) OR (Vibration IS Continuous) OR (Vibration IS Forced)) AND ((noises IS Humming) OR (noises IS Rattling) OR (noises IS Grinding))  THEN (failure IS Catastrophic)\"\n",
    "R2 = \"IF (noises IS Rattling) AND (Leaks IS Oil) AND (Vibration IS Continuous) AND (Smells IS Metallic) THEN (failure IS Major)\"\n",
    "R3 = \"IF (noises IS Humming) AND (Leaks IS Air) AND (Vibration IS Transient) AND (Smells IS Acrid) THEN (failure IS Minor)\"\n",
    "R4 = \"IF (Vibration IS Continuous) AND (Smells IS Metallic) AND (noises IS Grinding) AND (Leaks IS Oil) THEN (failure IS Major)\"\n",
    "R5 = \"IF (noises IS Humming) AND (Leaks IS Oil) AND (Smells IS Acrid) AND (Vibration IS Continuous) THEN (failure IS Minor)\"\n",
    "FS.add_rules([R1, R2, R3, R4, R5])\n"
   ]
  },
  {
   "cell_type": "code",
   "execution_count": 12,
   "id": "0d12e60f",
   "metadata": {},
   "outputs": [],
   "source": [
    "# Set antecedents values\n",
    "FS.set_variable(\"noises\", 2)\n",
    "FS.set_variable(\"Vibration\", 6)\n",
    "FS.set_variable(\"Smells\", 3)\n",
    "FS.set_variable(\"Leaks\", 4)"
   ]
  },
  {
   "cell_type": "code",
   "execution_count": 13,
   "id": "de88cb70",
   "metadata": {},
   "outputs": [
    {
     "name": "stdout",
     "output_type": "stream",
     "text": [
      "The failure degree is Minor\n"
     ]
    }
   ],
   "source": [
    "# Perform Mamdani inference and print output\n",
    "#print(FS.Mamdani_inference([\"failure\"]))\n",
    "result = FS.Mamdani_inference([\"failure\"])\n",
    "value = result.get(\"failure\", 0)\n",
    "if value <= 3:\n",
    "    print(\"The failure degree is Minor\")\n",
    "elif value > 3 and value <= 6 :\n",
    "    print(\"The failure degree is Major\")\n",
    "elif value > 8:\n",
    "    print(\"The failure degree is Catastrophic\")"
   ]
  }
 ],
 "metadata": {
  "kernelspec": {
   "display_name": "Python 3 (ipykernel)",
   "language": "python",
   "name": "python3"
  },
  "language_info": {
   "codemirror_mode": {
    "name": "ipython",
    "version": 3
   },
   "file_extension": ".py",
   "mimetype": "text/x-python",
   "name": "python",
   "nbconvert_exporter": "python",
   "pygments_lexer": "ipython3",
   "version": "3.10.8"
  }
 },
 "nbformat": 4,
 "nbformat_minor": 5
}
